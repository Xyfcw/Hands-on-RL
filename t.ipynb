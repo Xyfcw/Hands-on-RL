{
 "cells": [
  {
   "cell_type": "code",
   "execution_count": 4,
   "metadata": {},
   "outputs": [
    {
     "data": {
      "text/plain": [
       "[0, 2, 2, 3, 4, 4, 5]"
      ]
     },
     "execution_count": 4,
     "metadata": {},
     "output_type": "execute_result"
    }
   ],
   "source": [
    "nums = [3,2,4,5,2,0,4]\n",
    "\n",
    "def quick_sort(nums, i, j):\n",
    "    if i >= j: return \n",
    "    p = get_p(nums, i, j)\n",
    "    quick_sort(nums, i, p-1)\n",
    "    quick_sort(nums, p+1, j)\n",
    "\n",
    "def get_p(nums, i, j):\n",
    "    x, t = i, nums[i]\n",
    "    while i < j:\n",
    "        while i < j and nums[j] >= t: j -= 1\n",
    "        while i < j and nums[i] <= t: i += 1\n",
    "        nums[i], nums[j] = nums[j], nums[i]\n",
    "    nums[x], nums[i] = nums[i], nums[x]\n",
    "    return i\n",
    "\n",
    "quick_sort(nums, 0, 6)\n",
    "nums"
   ]
  },
  {
   "cell_type": "code",
   "execution_count": 1,
   "metadata": {},
   "outputs": [
    {
     "data": {
      "text/plain": [
       "['d:\\\\GitHub\\\\Hands-on-RL',\n",
       " 'd:\\\\Anaconda\\\\envs\\\\torch170\\\\python38.zip',\n",
       " 'd:\\\\Anaconda\\\\envs\\\\torch170\\\\DLLs',\n",
       " 'd:\\\\Anaconda\\\\envs\\\\torch170\\\\lib',\n",
       " 'd:\\\\Anaconda\\\\envs\\\\torch170',\n",
       " '',\n",
       " 'd:\\\\Anaconda\\\\envs\\\\torch170\\\\lib\\\\site-packages',\n",
       " 'd:\\\\Anaconda\\\\envs\\\\torch170\\\\lib\\\\site-packages\\\\win32',\n",
       " 'd:\\\\Anaconda\\\\envs\\\\torch170\\\\lib\\\\site-packages\\\\win32\\\\lib',\n",
       " 'd:\\\\Anaconda\\\\envs\\\\torch170\\\\lib\\\\site-packages\\\\Pythonwin']"
      ]
     },
     "execution_count": 1,
     "metadata": {},
     "output_type": "execute_result"
    }
   ],
   "source": [
    "# import redis\n",
    "# r = redis.StrictRedis(host='localhost', port=6379, db=0)\n",
    "# r.set('foo', 'bar')\n",
    "import sys\n",
    "sys.path"
   ]
  },
  {
   "cell_type": "code",
   "execution_count": 43,
   "metadata": {},
   "outputs": [
    {
     "ename": "NameError",
     "evalue": "name 'l1' is not defined",
     "output_type": "error",
     "traceback": [
      "\u001b[1;31m---------------------------------------------------------------------------\u001b[0m",
      "\u001b[1;31mNameError\u001b[0m                                 Traceback (most recent call last)",
      "\u001b[1;32md:\\GitHub\\Hands-on-RL\\t.ipynb Cell 2\u001b[0m in \u001b[0;36m<cell line: 16>\u001b[1;34m()\u001b[0m\n\u001b[0;32m     <a href='vscode-notebook-cell:/d%3A/GitHub/Hands-on-RL/t.ipynb#W1sZmlsZQ%3D%3D?line=13'>14</a>\u001b[0m \u001b[39mdel\u001b[39;00m l1\n\u001b[0;32m     <a href='vscode-notebook-cell:/d%3A/GitHub/Hands-on-RL/t.ipynb#W1sZmlsZQ%3D%3D?line=14'>15</a>\u001b[0m \u001b[39mdel\u001b[39;00m l2\n\u001b[1;32m---> <a href='vscode-notebook-cell:/d%3A/GitHub/Hands-on-RL/t.ipynb#W1sZmlsZQ%3D%3D?line=15'>16</a>\u001b[0m sys\u001b[39m.\u001b[39mgetrefcount(l1)\n",
      "\u001b[1;31mNameError\u001b[0m: name 'l1' is not defined"
     ]
    }
   ],
   "source": [
    "import torch\n",
    "import sys\n",
    "x = torch.arange(4.0, requires_grad=True)\n",
    "# x.grad.zero_()\n",
    "y = x * x\n",
    "u = y.detach()\n",
    "z = u * x\n",
    "\n",
    "z.sum().backward()\n",
    "l1 = ['1']\n",
    "l2 = ['2']\n",
    "l1.append(l2)\n",
    "l2.append(l1)\n",
    "del l1\n",
    "del l2\n",
    "sys.getrefcount(l1)"
   ]
  },
  {
   "cell_type": "code",
   "execution_count": 3,
   "metadata": {},
   "outputs": [
    {
     "data": {
      "text/plain": [
       "2550"
      ]
     },
     "execution_count": 3,
     "metadata": {},
     "output_type": "execute_result"
    }
   ],
   "source": [
    "labels_array = []   # [col_src,row_src,col_dst,row_dst]\n",
    "numbers = ['0', '1', '2', '3', '4', '5', '6', '7', '8', '9'] # row\n",
    "letters = ['0', '1', '2', '3', '4', '5', '6', '7', '8'] # col\n",
    "\n",
    "for n1 in range(10):\n",
    "    for l1 in range(9):\n",
    "        destinations = [(n1, t) for t in range(9)] + \\\n",
    "                        [(t, l1) for t in range(10)] + \\\n",
    "                        [(n1 + a, l1 + b) for (a, b) in\n",
    "                        [(-2, -1), (-1, -2), (-2, 1), (1, -2), (2, -1), (-1, 2), (2, 1), (1, 2),\n",
    "                             (-1, -1), (-1, 1), (1, -1), (1, 1),\n",
    "                             (-2, 2), (-2, 2), (2, -2), (2, 2)]]\n",
    "        for (n2, l2) in destinations:\n",
    "            if (n1, l1) != (n2, l2) and n2 in range(10) and l2 in range(9):\n",
    "                move = letters[l1] + numbers[n1] + letters[l2] + numbers[n2]\n",
    "                labels_array.append(move)\n",
    "len(labels_array)\n"
   ]
  },
  {
   "cell_type": "code",
   "execution_count": 3,
   "metadata": {},
   "outputs": [
    {
     "data": {
      "text/plain": [
       "[(-1, 0),\n",
       " (0, -1),\n",
       " (-1, 2),\n",
       " (2, -1),\n",
       " (3, 0),\n",
       " (0, 3),\n",
       " (3, 2),\n",
       " (2, 3),\n",
       " (0, 0),\n",
       " (0, 2),\n",
       " (2, 0),\n",
       " (2, 2),\n",
       " (-1, 3),\n",
       " (-1, 3),\n",
       " (3, -1),\n",
       " (3, 3)]"
      ]
     },
     "execution_count": 3,
     "metadata": {},
     "output_type": "execute_result"
    }
   ],
   "source": [
    "[(1 + a, 1 + b) for (a, b) in\n",
    "                            [(-2, -1), (-1, -2), (-2, 1), (1, -2), (2, -1), (-1, 2), (2, 1), (1, 2),\n",
    "                             (-1, -1), (-1, 1), (1, -1), (1, 1),\n",
    "                             (-2, 2), (-2, 2), (2, -2), (2, 2)]]"
   ]
  },
  {
   "cell_type": "code",
   "execution_count": 7,
   "metadata": {},
   "outputs": [
    {
     "name": "stdout",
     "output_type": "stream",
     "text": [
      "508\n"
     ]
    },
    {
     "data": {
      "text/plain": [
       "2086"
      ]
     },
     "execution_count": 7,
     "metadata": {},
     "output_type": "execute_result"
    }
   ],
   "source": [
    "cnt = 0\n",
    "\n",
    "for i in range(10):\n",
    "    for j in range(9):\n",
    "        for d1, d2 in [(-2, -1), (-1, -2), (-2, 1), (1, -2), (2, -1), (-1, 2), (2, 1), (1, 2)]:\n",
    "            if 0 <= i + d1 < 10 and 0 <= j + d2 < 9:\n",
    "                cnt += 1\n",
    "print(cnt)\n",
    "508 + 48 + 17 * 90"
   ]
  }
 ],
 "metadata": {
  "kernelspec": {
   "display_name": "Python 3.8.8 ('torch170')",
   "language": "python",
   "name": "python3"
  },
  "language_info": {
   "codemirror_mode": {
    "name": "ipython",
    "version": 3
   },
   "file_extension": ".py",
   "mimetype": "text/x-python",
   "name": "python",
   "nbconvert_exporter": "python",
   "pygments_lexer": "ipython3",
   "version": "3.8.8 (default, Feb 24 2021, 15:54:32) [MSC v.1928 64 bit (AMD64)]"
  },
  "orig_nbformat": 4,
  "vscode": {
   "interpreter": {
    "hash": "054120ba068db39b13a9d2d3f1fe1aab5c2e88ce9771642db849c8e2c09a1a51"
   }
  }
 },
 "nbformat": 4,
 "nbformat_minor": 2
}
