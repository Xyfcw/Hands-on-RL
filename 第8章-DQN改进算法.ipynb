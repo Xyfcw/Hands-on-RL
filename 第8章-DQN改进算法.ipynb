{
 "cells": [
  {
   "cell_type": "code",
   "execution_count": 26,
   "metadata": {
    "id": "xYQ1wifv_B-9"
   },
   "outputs": [],
   "source": [
    "import random\n",
    "import gym\n",
    "import numpy as np\n",
    "import torch\n",
    "import torch.nn.functional as F\n",
    "import matplotlib.pyplot as plt\n",
    "import rl_utils\n",
    "from tqdm import tqdm\n",
    "\n",
    "\n",
    "class Qnet(torch.nn.Module):\n",
    "    ''' 只有一层隐藏层的Q网络 '''\n",
    "    def __init__(self, state_dim, hidden_dim, action_dim):\n",
    "        super(Qnet, self).__init__()\n",
    "        self.fc1 = torch.nn.Linear(state_dim, hidden_dim)\n",
    "        self.fc2 = torch.nn.Linear(hidden_dim, action_dim)\n",
    "\n",
    "    def forward(self, x):\n",
    "        x = F.relu(self.fc1(x))\n",
    "        return self.fc2(x)"
   ]
  },
  {
   "cell_type": "code",
   "execution_count": 27,
   "metadata": {
    "id": "XxJzRhuv_B_B"
   },
   "outputs": [],
   "source": [
    "class DQN:\n",
    "    ''' DQN算法,包括Double DQN '''\n",
    "    def __init__(self,\n",
    "                 state_dim,\n",
    "                 hidden_dim,\n",
    "                 action_dim,\n",
    "                 learning_rate,\n",
    "                 gamma,\n",
    "                 epsilon,\n",
    "                 target_update,\n",
    "                 device,\n",
    "                 dqn_type='VanillaDQN'):\n",
    "        self.action_dim = action_dim\n",
    "        self.q_net = Qnet(state_dim, hidden_dim, self.action_dim).to(device)\n",
    "        self.target_q_net = Qnet(state_dim, hidden_dim,\n",
    "                                 self.action_dim).to(device)\n",
    "        self.optimizer = torch.optim.Adam(self.q_net.parameters(),\n",
    "                                          lr=learning_rate)\n",
    "        self.gamma = gamma\n",
    "        self.epsilon = epsilon\n",
    "        self.target_update = target_update\n",
    "        self.count = 0\n",
    "        self.dqn_type = dqn_type\n",
    "        self.device = device\n",
    "\n",
    "    def take_action(self, state):\n",
    "        if np.random.random() < self.epsilon:\n",
    "            action = np.random.randint(self.action_dim)\n",
    "        else:\n",
    "            state = torch.tensor([state], dtype=torch.float).to(self.device)\n",
    "            action = self.q_net(state).argmax().item()\n",
    "        return action\n",
    "\n",
    "    def max_q_value(self, state):\n",
    "        state = torch.tensor([state], dtype=torch.float).to(self.device)\n",
    "        return self.q_net(state).max().item()\n",
    "\n",
    "    def update(self, transition_dict):\n",
    "        states = torch.tensor(transition_dict['states'],\n",
    "                              dtype=torch.float).to(self.device)\n",
    "        actions = torch.tensor(transition_dict['actions']).view(-1, 1).to(\n",
    "            self.device)\n",
    "        rewards = torch.tensor(transition_dict['rewards'],\n",
    "                               dtype=torch.float).view(-1, 1).to(self.device)\n",
    "        next_states = torch.tensor(transition_dict['next_states'],\n",
    "                                   dtype=torch.float).to(self.device)\n",
    "        dones = torch.tensor(transition_dict['dones'],\n",
    "                             dtype=torch.float).view(-1, 1).to(self.device)\n",
    "\n",
    "        q_values = self.q_net(states).gather(1, actions)  # Q值\n",
    "        # 下个状态的最大Q值\n",
    "        max_next_q_values = self.target_q_net(next_states).max(1)[0].view(\n",
    "            -1, 1)\n",
    "        q_targets = rewards + self.gamma * max_next_q_values * (1 - dones\n",
    "                                                                )  # TD误差目标\n",
    "        dqn_loss = torch.mean(F.mse_loss(q_values, q_targets))  # 均方误差损失函数\n",
    "        self.optimizer.zero_grad()  # PyTorch中默认梯度会累积,这里需要显式将梯度置为0\n",
    "        dqn_loss.backward()  # 反向传播更新参数\n",
    "        self.optimizer.step()\n",
    "\n",
    "        if self.count % self.target_update == 0:\n",
    "            self.target_q_net.load_state_dict(\n",
    "                self.q_net.state_dict())  # 更新目标网络\n",
    "        self.count += 1"
   ]
  },
  {
   "cell_type": "code",
   "execution_count": 28,
   "metadata": {
    "id": "rfC_pmFz_B_C"
   },
   "outputs": [],
   "source": [
    "lr = 1e-2\n",
    "num_episodes = 200\n",
    "hidden_dim = 128\n",
    "gamma = 0.98\n",
    "epsilon = 0.01\n",
    "target_update = 50\n",
    "buffer_size = 5000\n",
    "minimal_size = 1000\n",
    "batch_size = 64\n",
    "device = torch.device(\"cuda\") if torch.cuda.is_available() else torch.device(\n",
    "    \"cpu\")\n",
    "\n",
    "env_name = 'Pendulum-v1'\n",
    "env = gym.make(env_name)\n",
    "state_dim = env.observation_space.shape[0]\n",
    "action_dim = 11  # 将连续动作分成11个离散动作\n",
    "\n",
    "\n",
    "def dis_to_con(discrete_action, env, action_dim):  # 离散动作转回连续的函数\n",
    "    action_lowbound = env.action_space.low[0]  # 连续动作的最小值\n",
    "    action_upbound = env.action_space.high[0]  # 连续动作的最大值\n",
    "    return action_lowbound + (discrete_action /\n",
    "                              (action_dim - 1)) * (action_upbound -\n",
    "                                                   action_lowbound)"
   ]
  },
  {
   "cell_type": "code",
   "execution_count": 29,
   "metadata": {
    "id": "UIZ6DvKZ_B_D"
   },
   "outputs": [],
   "source": [
    "def train_DQN(agent, env, num_episodes, replay_buffer, minimal_size,\n",
    "              batch_size, seed):\n",
    "    return_list = []\n",
    "    max_q_value_list = []\n",
    "    max_q_value = 0\n",
    "    for i in range(10):\n",
    "        with tqdm(total=int(num_episodes / 10),\n",
    "                  desc='Iteration %d' % i) as pbar:\n",
    "            for i_episode in range(int(num_episodes / 10)):\n",
    "                episode_return = 0\n",
    "                state = env.reset(seed=seed)\n",
    "                done = False\n",
    "                while not done:\n",
    "                    action = agent.take_action(state)\n",
    "                    max_q_value = agent.max_q_value(\n",
    "                        state) * 0.005 + max_q_value * 0.995  # 平滑处理\n",
    "                    max_q_value_list.append(max_q_value)  # 保存每个状态的最大Q值\n",
    "                    action_continuous = dis_to_con(action, env,\n",
    "                                                   agent.action_dim)\n",
    "                    next_state, reward, done, _ = env.step([action_continuous])\n",
    "                    replay_buffer.add(state, action, reward, next_state, done)\n",
    "                    state = next_state\n",
    "                    episode_return += reward\n",
    "                    if replay_buffer.size() > minimal_size:\n",
    "                        b_s, b_a, b_r, b_ns, b_d = replay_buffer.sample(\n",
    "                            batch_size)\n",
    "                        transition_dict = {\n",
    "                            'states': b_s,\n",
    "                            'actions': b_a,\n",
    "                            'next_states': b_ns,\n",
    "                            'rewards': b_r,\n",
    "                            'dones': b_d\n",
    "                        }\n",
    "                        agent.update(transition_dict)\n",
    "                return_list.append(episode_return)\n",
    "                if (i_episode + 1) % 10 == 0:\n",
    "                    pbar.set_postfix({\n",
    "                        'episode':\n",
    "                        '%d' % (num_episodes / 10 * i + i_episode + 1),\n",
    "                        'return':\n",
    "                        '%.3f' % np.mean(return_list[-10:])\n",
    "                    })\n",
    "                pbar.update(1)\n",
    "    return return_list, max_q_value_list"
   ]
  },
  {
   "cell_type": "code",
   "execution_count": 30,
   "metadata": {
    "colab": {
     "base_uri": "https://localhost:8080/",
     "height": 784
    },
    "executionInfo": {
     "elapsed": 78768,
     "status": "ok",
     "timestamp": 1649955563162,
     "user": {
      "displayName": "Sam Lu",
      "userId": "15789059763790170725"
     },
     "user_tz": -480
    },
    "id": "3cqGd7MY_B_E",
    "outputId": "6a9d7cd5-61f3-4f01-e314-4a46165e8089"
   },
   "outputs": [
    {
     "name": "stderr",
     "output_type": "stream",
     "text": [
      "Iteration 0: 100%|██████████| 20/20 [00:08<00:00,  2.32it/s, episode=20, return=-919.592] \n",
      "Iteration 1: 100%|██████████| 20/20 [00:10<00:00,  1.88it/s, episode=40, return=-692.933]\n",
      "Iteration 2: 100%|██████████| 20/20 [00:10<00:00,  1.93it/s, episode=60, return=-214.098]\n",
      "Iteration 3: 100%|██████████| 20/20 [00:10<00:00,  1.94it/s, episode=80, return=-290.790]\n",
      "Iteration 4: 100%|██████████| 20/20 [00:10<00:00,  1.94it/s, episode=100, return=-126.170]\n",
      "Iteration 5: 100%|██████████| 20/20 [00:10<00:00,  1.95it/s, episode=120, return=-548.388]\n",
      "Iteration 6: 100%|██████████| 20/20 [00:10<00:00,  1.95it/s, episode=140, return=-319.895]\n",
      "Iteration 7: 100%|██████████| 20/20 [00:10<00:00,  1.94it/s, episode=160, return=-304.475]\n",
      "Iteration 8: 100%|██████████| 20/20 [00:10<00:00,  1.95it/s, episode=180, return=-148.237]\n",
      "Iteration 9: 100%|██████████| 20/20 [00:11<00:00,  1.79it/s, episode=200, return=-124.927]\n"
     ]
    },
    {
     "data": {
      "image/png": "[encoded data removed]",
      "text/plain": [
       "<Figure size 432x288 with 1 Axes>"
      ]
     },
     "metadata": {
      "needs_background": "light"
     },
     "output_type": "display_data"
    },
    {
     "data": {
      "image/png": "[encoded data removed]",
      "text/plain": [
       "<Figure size 432x288 with 1 Axes>"
      ]
     },
     "metadata": {
      "needs_background": "light"
     },
     "output_type": "display_data"
    }
   ],
   "source": [
    "random.seed(0)\n",
    "np.random.seed(0)\n",
    "# env.seed(0)\n",
    "seed = 0\n",
    "torch.manual_seed(0)\n",
    "replay_buffer = rl_utils.ReplayBuffer(buffer_size)\n",
    "agent = DQN(state_dim, hidden_dim, action_dim, lr, gamma, epsilon,\n",
    "            target_update, device)\n",
    "return_list, max_q_value_list = train_DQN(agent, env, num_episodes,\n",
    "                                          replay_buffer, minimal_size,\n",
    "                                          batch_size, seed)\n",
    "\n",
    "episodes_list = list(range(len(return_list)))\n",
    "mv_return = rl_utils.moving_average(return_list, 5)\n",
    "plt.plot(episodes_list, mv_return)\n",
    "plt.xlabel('Episodes')\n",
    "plt.ylabel('Returns')\n",
    "plt.title('DQN on {}'.format(env_name))\n",
    "plt.show()\n",
    "\n",
    "frames_list = list(range(len(max_q_value_list)))\n",
    "plt.plot(frames_list, max_q_value_list)\n",
    "plt.axhline(0, c='orange', ls='--')\n",
    "plt.axhline(10, c='red', ls='--')\n",
    "plt.xlabel('Frames')\n",
    "plt.ylabel('Q value')\n",
    "plt.title('DQN on {}'.format(env_name))\n",
    "plt.show()\n",
    "\n",
    "# Iteration 0: 100%|██████████| 20/20 [00:07<00:00,  2.19it/s, episode=20,\n",
    "# return=-1063.629]\n",
    "# Iteration 1: 100%|██████████| 20/20 [00:09<00:00,  2.15it/s, episode=40,\n",
    "# return=-869.863]\n",
    "# Iteration 2: 100%|██████████| 20/20 [00:09<00:00,  2.16it/s, episode=60,\n",
    "# return=-246.865]\n",
    "# Iteration 3: 100%|██████████| 20/20 [00:09<00:00,  2.15it/s, episode=80,\n",
    "# return=-226.042]\n",
    "# Iteration 4: 100%|██████████| 20/20 [00:09<00:00,  2.17it/s, episode=100,\n",
    "# return=-210.614]\n",
    "# Iteration 5: 100%|██████████| 20/20 [00:09<00:00,  2.16it/s, episode=120,\n",
    "# return=-251.662]\n",
    "# Iteration 6: 100%|██████████| 20/20 [00:09<00:00,  2.15it/s, episode=140,\n",
    "# return=-239.768]\n",
    "# Iteration 7: 100%|██████████| 20/20 [00:09<00:00,  2.19it/s, episode=160,\n",
    "# return=-174.586]\n",
    "# Iteration 8: 100%|██████████| 20/20 [00:09<00:00,  2.14it/s, episode=180,\n",
    "# return=-263.318]\n",
    "# Iteration 9: 100%|██████████| 20/20 [00:09<00:00,  2.12it/s, episode=200,\n",
    "# return=-219.349]"
   ]
  },
  {
   "cell_type": "code",
   "execution_count": 31,
   "metadata": {
    "colab": {
     "base_uri": "https://localhost:8080/",
     "height": 747
    },
    "executionInfo": {
     "elapsed": 73988,
     "status": "ok",
     "timestamp": 1649955670007,
     "user": {
      "displayName": "Sam Lu",
      "userId": "15789059763790170725"
     },
     "user_tz": -480
    },
    "id": "iAdPExf__B_E",
    "outputId": "1d8b0741-1844-4f0d-d289-a1786983b6cc"
   },
   "outputs": [
    {
     "name": "stderr",
     "output_type": "stream",
     "text": [
      "Iteration 0: 100%|██████████| 20/20 [00:08<00:00,  2.28it/s, episode=20, return=-919.592] \n",
      "Iteration 1: 100%|██████████| 20/20 [00:10<00:00,  1.91it/s, episode=40, return=-692.933]\n",
      "Iteration 2: 100%|██████████| 20/20 [00:11<00:00,  1.81it/s, episode=60, return=-214.098]\n",
      "Iteration 3: 100%|██████████| 20/20 [00:10<00:00,  1.82it/s, episode=80, return=-290.790]\n",
      "Iteration 4: 100%|██████████| 20/20 [00:10<00:00,  1.88it/s, episode=100, return=-126.170]\n",
      "Iteration 5: 100%|██████████| 20/20 [00:10<00:00,  1.87it/s, episode=120, return=-548.388]\n",
      "Iteration 6: 100%|██████████| 20/20 [00:10<00:00,  1.85it/s, episode=140, return=-319.895]\n",
      "Iteration 7: 100%|██████████| 20/20 [00:10<00:00,  1.83it/s, episode=160, return=-304.475]\n",
      "Iteration 8: 100%|██████████| 20/20 [00:10<00:00,  1.92it/s, episode=180, return=-148.237]\n",
      "Iteration 9: 100%|██████████| 20/20 [00:10<00:00,  1.87it/s, episode=200, return=-124.927]\n"
     ]
    },
    {
     "data": {
      "image/png": "[encoded data removed]",
      "text/plain": [
       "<Figure size 432x288 with 1 Axes>"
      ]
     },
     "metadata": {
      "needs_background": "light"
     },
     "output_type": "display_data"
    },
    {
     "data": {
      "image/png": "[encoded data removed]",
      "text/plain": [
       "<Figure size 432x288 with 1 Axes>"
      ]
     },
     "metadata": {
      "needs_background": "light"
     },
     "output_type": "display_data"
    }
   ],
   "source": [
    "random.seed(0)\n",
    "np.random.seed(0)\n",
    "# env.seed(0)\n",
    "seed = 0\n",
    "torch.manual_seed(0)\n",
    "replay_buffer = rl_utils.ReplayBuffer(buffer_size)\n",
    "agent = DQN(state_dim, hidden_dim, action_dim, lr, gamma, epsilon,\n",
    "            target_update, device, 'DoubleDQN')\n",
    "return_list, max_q_value_list = train_DQN(agent, env, num_episodes,\n",
    "                                          replay_buffer, minimal_size,\n",
    "                                          batch_size, seed)\n",
    "\n",
    "episodes_list = list(range(len(return_list)))\n",
    "mv_return = rl_utils.moving_average(return_list, 5)\n",
    "plt.plot(episodes_list, mv_return)\n",
    "plt.xlabel('Episodes')\n",
    "plt.ylabel('Returns')\n",
    "plt.title('Double DQN on {}'.format(env_name))\n",
    "plt.show()\n",
    "\n",
    "frames_list = list(range(len(max_q_value_list)))\n",
    "plt.plot(frames_list, max_q_value_list)\n",
    "plt.axhline(0, c='orange', ls='--')\n",
    "plt.axhline(10, c='red', ls='--')\n",
    "plt.xlabel('Frames')\n",
    "plt.ylabel('Q value')\n",
    "plt.title('Double DQN on {}'.format(env_name))\n",
    "plt.show()\n",
    "\n",
    "# Iteration 0: 100%|██████████| 20/20 [00:07<00:00,  2.05it/s, episode=20,\n",
    "# return=-1167.778]\n",
    "# Iteration 1: 100%|██████████| 20/20 [00:09<00:00,  2.03it/s, episode=40,\n",
    "# return=-649.008]\n",
    "# Iteration 2: 100%|██████████| 20/20 [00:09<00:00,  2.05it/s, episode=60,\n",
    "# return=-297.516]\n",
    "# Iteration 3: 100%|██████████| 20/20 [00:09<00:00,  2.02it/s, episode=80,\n",
    "# return=-262.276]\n",
    "# Iteration 4: 100%|██████████| 20/20 [00:09<00:00,  2.03it/s, episode=100,\n",
    "# return=-277.412]\n",
    "# Iteration 5: 100%|██████████| 20/20 [00:09<00:00,  2.03it/s, episode=120,\n",
    "# return=-289.226]\n",
    "# Iteration 6: 100%|██████████| 20/20 [00:09<00:00,  2.02it/s, episode=140,\n",
    "# return=-307.092]\n",
    "# Iteration 7: 100%|██████████| 20/20 [00:09<00:00,  2.02it/s, episode=160,\n",
    "# return=-236.051]\n",
    "# Iteration 8: 100%|██████████| 20/20 [00:09<00:00,  2.02it/s, episode=180,\n",
    "# return=-260.574]\n",
    "# Iteration 9: 100%|██████████| 20/20 [00:09<00:00,  2.04it/s, episode=200,\n",
    "# return=-285.691"
   ]
  },
  {
   "cell_type": "code",
   "execution_count": 32,
   "metadata": {
    "colab": {
     "base_uri": "https://localhost:8080/",
     "height": 747
    },
    "executionInfo": {
     "elapsed": 104327,
     "status": "ok",
     "timestamp": 1649955793281,
     "user": {
      "displayName": "Sam Lu",
      "userId": "15789059763790170725"
     },
     "user_tz": -480
    },
    "id": "86XZQJoM_B_F",
    "outputId": "47711dad-a239-4a48-9984-6e2b7dc836c6"
   },
   "outputs": [
    {
     "name": "stderr",
     "output_type": "stream",
     "text": [
      "d:\\Anaconda\\envs\\torch170\\lib\\site-packages\\gym\\core.py:172: DeprecationWarning: \u001b[33mWARN: Function `env.seed(seed)` is marked as deprecated and will be removed in the future. Please use `env.reset(seed=seed) instead.\u001b[0m\n",
      "  deprecation(\n"
     ]
    },
    {
     "ename": "TypeError",
     "evalue": "train_DQN() missing 1 required positional argument: 'seed'",
     "output_type": "error",
     "traceback": [
      "\u001b[1;31m---------------------------------------------------------------------------\u001b[0m",
      "\u001b[1;31mTypeError\u001b[0m                                 Traceback (most recent call last)",
      "\u001b[1;32md:\\GitHub\\Hands-on-RL\\第8章-DQN改进算法.ipynb Cell 7\u001b[0m in \u001b[0;36m<cell line: 98>\u001b[1;34m()\u001b[0m\n\u001b[0;32m     <a href='vscode-notebook-cell:/d%3A/GitHub/Hands-on-RL/%E7%AC%AC8%E7%AB%A0-DQN%E6%94%B9%E8%BF%9B%E7%AE%97%E6%B3%95.ipynb#ch0000006?line=94'>95</a>\u001b[0m replay_buffer \u001b[39m=\u001b[39m rl_utils\u001b[39m.\u001b[39mReplayBuffer(buffer_size)\n\u001b[0;32m     <a href='vscode-notebook-cell:/d%3A/GitHub/Hands-on-RL/%E7%AC%AC8%E7%AB%A0-DQN%E6%94%B9%E8%BF%9B%E7%AE%97%E6%B3%95.ipynb#ch0000006?line=95'>96</a>\u001b[0m agent \u001b[39m=\u001b[39m DQN(state_dim, hidden_dim, action_dim, lr, gamma, epsilon,\n\u001b[0;32m     <a href='vscode-notebook-cell:/d%3A/GitHub/Hands-on-RL/%E7%AC%AC8%E7%AB%A0-DQN%E6%94%B9%E8%BF%9B%E7%AE%97%E6%B3%95.ipynb#ch0000006?line=96'>97</a>\u001b[0m             target_update, device, \u001b[39m'\u001b[39m\u001b[39mDuelingDQN\u001b[39m\u001b[39m'\u001b[39m)\n\u001b[1;32m---> <a href='vscode-notebook-cell:/d%3A/GitHub/Hands-on-RL/%E7%AC%AC8%E7%AB%A0-DQN%E6%94%B9%E8%BF%9B%E7%AE%97%E6%B3%95.ipynb#ch0000006?line=97'>98</a>\u001b[0m return_list, max_q_value_list \u001b[39m=\u001b[39m train_DQN(agent, env, num_episodes,\n\u001b[0;32m     <a href='vscode-notebook-cell:/d%3A/GitHub/Hands-on-RL/%E7%AC%AC8%E7%AB%A0-DQN%E6%94%B9%E8%BF%9B%E7%AE%97%E6%B3%95.ipynb#ch0000006?line=98'>99</a>\u001b[0m                                           replay_buffer, minimal_size,\n\u001b[0;32m    <a href='vscode-notebook-cell:/d%3A/GitHub/Hands-on-RL/%E7%AC%AC8%E7%AB%A0-DQN%E6%94%B9%E8%BF%9B%E7%AE%97%E6%B3%95.ipynb#ch0000006?line=99'>100</a>\u001b[0m                                           batch_size)\n\u001b[0;32m    <a href='vscode-notebook-cell:/d%3A/GitHub/Hands-on-RL/%E7%AC%AC8%E7%AB%A0-DQN%E6%94%B9%E8%BF%9B%E7%AE%97%E6%B3%95.ipynb#ch0000006?line=101'>102</a>\u001b[0m episodes_list \u001b[39m=\u001b[39m \u001b[39mlist\u001b[39m(\u001b[39mrange\u001b[39m(\u001b[39mlen\u001b[39m(return_list)))\n\u001b[0;32m    <a href='vscode-notebook-cell:/d%3A/GitHub/Hands-on-RL/%E7%AC%AC8%E7%AB%A0-DQN%E6%94%B9%E8%BF%9B%E7%AE%97%E6%B3%95.ipynb#ch0000006?line=102'>103</a>\u001b[0m mv_return \u001b[39m=\u001b[39m rl_utils\u001b[39m.\u001b[39mmoving_average(return_list, \u001b[39m5\u001b[39m)\n",
      "\u001b[1;31mTypeError\u001b[0m: train_DQN() missing 1 required positional argument: 'seed'"
     ]
    }
   ],
   "source": [
    "class VAnet(torch.nn.Module):\n",
    "    ''' 只有一层隐藏层的A网络和V网络 '''\n",
    "    def __init__(self, state_dim, hidden_dim, action_dim):\n",
    "        super(VAnet, self).__init__()\n",
    "        self.fc1 = torch.nn.Linear(state_dim, hidden_dim)  # 共享网络部分\n",
    "        self.fc_A = torch.nn.Linear(hidden_dim, action_dim)\n",
    "        self.fc_V = torch.nn.Linear(hidden_dim, 1)\n",
    "\n",
    "    def forward(self, x):\n",
    "        A = self.fc_A(F.relu(self.fc1(x)))\n",
    "        V = self.fc_V(F.relu(self.fc1(x)))\n",
    "        Q = V + A - A.mean(1).view(-1, 1)  # Q值由V值和A值计算得到\n",
    "        return Q\n",
    "\n",
    "\n",
    "class DQN:\n",
    "    ''' DQN算法,包括Double DQN和Dueling DQN '''\n",
    "    def __init__(self,\n",
    "                 state_dim,\n",
    "                 hidden_dim,\n",
    "                 action_dim,\n",
    "                 learning_rate,\n",
    "                 gamma,\n",
    "                 epsilon,\n",
    "                 target_update,\n",
    "                 device,\n",
    "                 dqn_type='VanillaDQN'):\n",
    "        self.action_dim = action_dim\n",
    "        if dqn_type == 'DuelingDQN':  # Dueling DQN采取不一样的网络框架\n",
    "            self.q_net = VAnet(state_dim, hidden_dim,\n",
    "                               self.action_dim).to(device)\n",
    "            self.target_q_net = VAnet(state_dim, hidden_dim,\n",
    "                                      self.action_dim).to(device)\n",
    "        else:\n",
    "            self.q_net = Qnet(state_dim, hidden_dim,\n",
    "                              self.action_dim).to(device)\n",
    "            self.target_q_net = Qnet(state_dim, hidden_dim,\n",
    "                                     self.action_dim).to(device)\n",
    "        self.optimizer = torch.optim.Adam(self.q_net.parameters(),\n",
    "                                          lr=learning_rate)\n",
    "        self.gamma = gamma\n",
    "        self.epsilon = epsilon\n",
    "        self.target_update = target_update\n",
    "        self.count = 0\n",
    "        self.dqn_type = dqn_type\n",
    "        self.device = device\n",
    "\n",
    "    def take_action(self, state):\n",
    "        if np.random.random() < self.epsilon:\n",
    "            action = np.random.randint(self.action_dim)\n",
    "        else:\n",
    "            state = torch.tensor([state], dtype=torch.float).to(self.device)\n",
    "            action = self.q_net(state).argmax().item()\n",
    "        return action\n",
    "\n",
    "    def max_q_value(self, state):\n",
    "        state = torch.tensor([state], dtype=torch.float).to(self.device)\n",
    "        return self.q_net(state).max().item()\n",
    "\n",
    "    def update(self, transition_dict):\n",
    "        states = torch.tensor(transition_dict['states'],\n",
    "                              dtype=torch.float).to(self.device)\n",
    "        actions = torch.tensor(transition_dict['actions']).view(-1, 1).to(\n",
    "            self.device)\n",
    "        rewards = torch.tensor(transition_dict['rewards'],\n",
    "                               dtype=torch.float).view(-1, 1).to(self.device)\n",
    "        next_states = torch.tensor(transition_dict['next_states'],\n",
    "                                   dtype=torch.float).to(self.device)\n",
    "        dones = torch.tensor(transition_dict['dones'],\n",
    "                             dtype=torch.float).view(-1, 1).to(self.device)\n",
    "\n",
    "        q_values = self.q_net(states).gather(1, actions)\n",
    "        if self.dqn_type == 'DoubleDQN':\n",
    "            max_action = self.q_net(next_states).max(1)[1].view(-1, 1)\n",
    "            max_next_q_values = self.target_q_net(next_states).gather(\n",
    "                1, max_action)\n",
    "        else:\n",
    "            max_next_q_values = self.target_q_net(next_states).max(1)[0].view(\n",
    "                -1, 1)\n",
    "        q_targets = rewards + self.gamma * max_next_q_values * (1 - dones)\n",
    "        dqn_loss = torch.mean(F.mse_loss(q_values, q_targets))\n",
    "        self.optimizer.zero_grad()\n",
    "        dqn_loss.backward()\n",
    "        self.optimizer.step()\n",
    "\n",
    "        if self.count % self.target_update == 0:\n",
    "            self.target_q_net.load_state_dict(self.q_net.state_dict())\n",
    "        self.count += 1\n",
    "\n",
    "\n",
    "random.seed(0)\n",
    "np.random.seed(0)\n",
    "# env.seed(0)\n",
    "seed = 0\n",
    "torch.manual_seed(0)\n",
    "replay_buffer = rl_utils.ReplayBuffer(buffer_size)\n",
    "agent = DQN(state_dim, hidden_dim, action_dim, lr, gamma, epsilon,\n",
    "            target_update, device, 'DuelingDQN')\n",
    "return_list, max_q_value_list = train_DQN(agent, env, num_episodes,\n",
    "                                          replay_buffer, minimal_size,\n",
    "                                          batch_size, seed)\n",
    "\n",
    "episodes_list = list(range(len(return_list)))\n",
    "mv_return = rl_utils.moving_average(return_list, 5)\n",
    "plt.plot(episodes_list, mv_return)\n",
    "plt.xlabel('Episodes')\n",
    "plt.ylabel('Returns')\n",
    "plt.title('Dueling DQN on {}'.format(env_name))\n",
    "plt.show()\n",
    "\n",
    "frames_list = list(range(len(max_q_value_list)))\n",
    "plt.plot(frames_list, max_q_value_list)\n",
    "plt.axhline(0, c='orange', ls='--')\n",
    "plt.axhline(10, c='red', ls='--')\n",
    "plt.xlabel('Frames')\n",
    "plt.ylabel('Q value')\n",
    "plt.title('Dueling DQN on {}'.format(env_name))\n",
    "plt.show()\n",
    "\n",
    "# Iteration 0: 100%|██████████| 20/20 [00:10<00:00,  1.46it/s, episode=20,\n",
    "# return=-566.544]\n",
    "# Iteration 1: 100%|██████████| 20/20 [00:13<00:00,  1.46it/s, episode=40,\n",
    "# return=-305.875]\n",
    "# Iteration 2: 100%|██████████| 20/20 [00:13<00:00,  1.44it/s, episode=60,\n",
    "# return=-260.326]\n",
    "# Iteration 3: 100%|██████████| 20/20 [00:13<00:00,  1.44it/s, episode=80,\n",
    "# return=-171.342]\n",
    "# Iteration 4: 100%|██████████| 20/20 [00:13<00:00,  1.45it/s, episode=100,\n",
    "# return=-246.607]\n",
    "# Iteration 5: 100%|██████████| 20/20 [00:13<00:00,  1.44it/s, episode=120,\n",
    "# return=-340.761]\n",
    "# Iteration 6: 100%|██████████| 20/20 [00:13<00:00,  1.43it/s, episode=140,\n",
    "# return=-234.315]\n",
    "# Iteration 7: 100%|██████████| 20/20 [00:14<00:00,  1.43it/s, episode=160,\n",
    "# return=-160.320]\n",
    "# Iteration 8: 100%|██████████| 20/20 [00:13<00:00,  1.43it/s, episode=180,\n",
    "# return=-254.963]\n",
    "# Iteration 9: 100%|██████████| 20/20 [00:13<00:00,  1.44it/s, episode=200,\n",
    "# return=-192.522]"
   ]
  }
 ],
 "metadata": {
  "colab": {
   "collapsed_sections": [],
   "name": "第8章-DQN改进算法.ipynb",
   "provenance": []
  },
  "kernelspec": {
   "display_name": "Python 3.8.8 ('torch170')",
   "language": "python",
   "name": "python3"
  },
  "language_info": {
   "codemirror_mode": {
    "name": "ipython",
    "version": 3
   },
   "file_extension": ".py",
   "mimetype": "text/x-python",
   "name": "python",
   "nbconvert_exporter": "python",
   "pygments_lexer": "ipython3",
   "version": "3.8.8 (default, Feb 24 2021, 15:54:32) [MSC v.1928 64 bit (AMD64)]"
  },
  "vscode": {
   "interpreter": {
    "hash": "054120ba068db39b13a9d2d3f1fe1aab5c2e88ce9771642db849c8e2c09a1a51"
   }
  }
 },
 "nbformat": 4,
 "nbformat_minor": 1
}
