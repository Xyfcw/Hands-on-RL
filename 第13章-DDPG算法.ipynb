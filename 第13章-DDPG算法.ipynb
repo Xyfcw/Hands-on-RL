{
 "cells": [
  {
   "cell_type": "code",
   "execution_count": 6,
   "metadata": {
    "executionInfo": {
     "elapsed": 7745,
     "status": "ok",
     "timestamp": 1649956114018,
     "user": {
      "displayName": "Sam Lu",
      "userId": "15789059763790170725"
     },
     "user_tz": -480
    },
    "id": "ADCfIvzwCn3R"
   },
   "outputs": [],
   "source": [
    "import random\n",
    "import gym\n",
    "import numpy as np\n",
    "from tqdm import tqdm\n",
    "import torch\n",
    "from torch import nn\n",
    "import torch.nn.functional as F\n",
    "import matplotlib.pyplot as plt\n",
    "import rl_utils"
   ]
  },
  {
   "cell_type": "code",
   "execution_count": 7,
   "metadata": {
    "executionInfo": {
     "elapsed": 11,
     "status": "ok",
     "timestamp": 1649956114020,
     "user": {
      "displayName": "Sam Lu",
      "userId": "15789059763790170725"
     },
     "user_tz": -480
    },
    "id": "7lLH6nSFCn3U"
   },
   "outputs": [],
   "source": [
    "class PolicyNet(torch.nn.Module):\n",
    "    def __init__(self, state_dim, hidden_dim, action_dim, action_bound):\n",
    "        super(PolicyNet, self).__init__()\n",
    "        self.fc1 = torch.nn.Linear(state_dim, hidden_dim)\n",
    "        self.fc2 = torch.nn.Linear(hidden_dim, action_dim)\n",
    "        self.action_bound = action_bound  # action_bound是环境可以接受的动作最大值\n",
    "\n",
    "    def forward(self, x):\n",
    "        x = F.relu(self.fc1(x))\n",
    "        return torch.tanh(self.fc2(x)) * self.action_bound\n",
    "\n",
    "\n",
    "class QValueNet(torch.nn.Module):\n",
    "    def __init__(self, state_dim, hidden_dim, action_dim):\n",
    "        super(QValueNet, self).__init__()\n",
    "        self.fc1 = torch.nn.Linear(state_dim + action_dim, hidden_dim)\n",
    "        self.fc2 = torch.nn.Linear(hidden_dim, 1)\n",
    "\n",
    "    def forward(self, x, a):\n",
    "        cat = torch.cat([x, a], dim=1)  # 拼接状态和动作\n",
    "        x = F.relu(self.fc1(cat))\n",
    "        return self.fc2(x)\n",
    "\n",
    "\n",
    "class TwoLayerFC(torch.nn.Module):\n",
    "    # 这是一个简单的两层神经网络\n",
    "    def __init__(self,\n",
    "                 num_in,\n",
    "                 num_out,\n",
    "                 hidden_dim,\n",
    "                 activation=F.relu,\n",
    "                 out_fn=lambda x: x):\n",
    "        super().__init__()\n",
    "        self.fc1 = nn.Linear(num_in, hidden_dim)\n",
    "        self.fc2 = nn.Linear(hidden_dim, hidden_dim)\n",
    "        self.fc3 = nn.Linear(hidden_dim, num_out)\n",
    "\n",
    "        self.activation = activation\n",
    "        self.out_fn = out_fn\n",
    "\n",
    "    def forward(self, x):\n",
    "        x = self.activation(self.fc1(x))\n",
    "        x = self.activation(self.fc2(x))\n",
    "        x = self.out_fn(self.fc3(x))\n",
    "        return x"
   ]
  },
  {
   "cell_type": "code",
   "execution_count": 8,
   "metadata": {
    "executionInfo": {
     "elapsed": 4,
     "status": "ok",
     "timestamp": 1649956263275,
     "user": {
      "displayName": "Sam Lu",
      "userId": "15789059763790170725"
     },
     "user_tz": -480
    },
    "id": "0WpTJOW2Cn3W"
   },
   "outputs": [],
   "source": [
    "class DDPG:\n",
    "    ''' DDPG算法 '''\n",
    "    def __init__(self, num_in_actor, num_out_actor, num_in_critic, hidden_dim,\n",
    "                 discrete, action_bound, sigma, actor_lr, critic_lr, tau,\n",
    "                 gamma, device):\n",
    "        # self.actor = PolicyNet(state_dim, hidden_dim, action_dim, action_bound).to(device)\n",
    "        # self.critic = QValueNet(state_dim, hidden_dim, action_dim).to(device)\n",
    "        # self.target_actor = PolicyNet(state_dim, hidden_dim, action_dim, action_bound).to(device)\n",
    "        # self.target_critic = QValueNet(state_dim, hidden_dim, action_dim).to(device)\n",
    "        out_fn = (lambda x: x) if discrete else (\n",
    "            lambda x: torch.tanh(x) * action_bound)\n",
    "        self.actor = TwoLayerFC(num_in_actor,\n",
    "                                num_out_actor,\n",
    "                                hidden_dim,\n",
    "                                activation=F.relu,\n",
    "                                out_fn=out_fn).to(device)\n",
    "        self.target_actor = TwoLayerFC(num_in_actor,\n",
    "                                       num_out_actor,\n",
    "                                       hidden_dim,\n",
    "                                       activation=F.relu,\n",
    "                                       out_fn=out_fn).to(device)\n",
    "        self.critic = TwoLayerFC(num_in_critic, 1, hidden_dim).to(device)\n",
    "        self.target_critic = TwoLayerFC(num_in_critic, 1,\n",
    "                                        hidden_dim).to(device)\n",
    "        # 初始化目标价值网络并设置和价值网络相同的参数\n",
    "        self.target_critic.load_state_dict(self.critic.state_dict())\n",
    "        # 初始化目标策略网络并设置和策略相同的参数\n",
    "        self.target_actor.load_state_dict(self.actor.state_dict())\n",
    "        self.actor_optimizer = torch.optim.Adam(self.actor.parameters(),\n",
    "                                                lr=actor_lr)\n",
    "        self.critic_optimizer = torch.optim.Adam(self.critic.parameters(),\n",
    "                                                 lr=critic_lr)\n",
    "        self.gamma = gamma\n",
    "        self.sigma = sigma  # 高斯噪声的标准差,均值直接设为0\n",
    "        self.action_bound = action_bound  # action_bound是环境可以接受的动作最大值\n",
    "        self.tau = tau  # 目标网络软更新参数\n",
    "        self.action_dim = num_out_actor\n",
    "        self.device = device\n",
    "\n",
    "    def take_action(self, state):\n",
    "        state = torch.tensor([state], dtype=torch.float).to(self.device)\n",
    "        action = self.actor(state).item()\n",
    "        # 给动作添加噪声，增加探索\n",
    "        action = action + self.sigma * np.random.randn(self.action_dim)\n",
    "        return action\n",
    "\n",
    "    def soft_update(self, net, target_net):\n",
    "        for param_target, param in zip(target_net.parameters(),\n",
    "                                       net.parameters()):\n",
    "            param_target.data.copy_(param_target.data * (1.0 - self.tau) +\n",
    "                                    param.data * self.tau)\n",
    "        # target_net.load_state_dict(net.state_dict())\n",
    "\n",
    "    def update(self, transition_dict):\n",
    "        states = torch.tensor(transition_dict['states'],\n",
    "                              dtype=torch.float).to(self.device)\n",
    "        actions = torch.tensor(transition_dict['actions'],\n",
    "                               dtype=torch.float).view(-1, 1).to(self.device)\n",
    "        rewards = torch.tensor(transition_dict['rewards'],\n",
    "                               dtype=torch.float).view(-1, 1).to(self.device)\n",
    "        next_states = torch.tensor(transition_dict['next_states'],\n",
    "                                   dtype=torch.float).to(self.device)\n",
    "        dones = torch.tensor(transition_dict['dones'],\n",
    "                             dtype=torch.float).view(-1, 1).to(self.device)\n",
    "\n",
    "        next_q_values = self.target_critic(\n",
    "            torch.cat(\n",
    "                [next_states, self.target_actor(next_states)], dim=1))\n",
    "        q_targets = rewards + self.gamma * next_q_values * (1 - dones)\n",
    "        critic_loss = torch.mean(\n",
    "            F.mse_loss(\n",
    "                # MSE损失函数\n",
    "                self.critic(torch.cat([states, actions], dim=1)),\n",
    "                q_targets))\n",
    "        self.critic_optimizer.zero_grad()\n",
    "        critic_loss.backward()\n",
    "        self.critic_optimizer.step()\n",
    "\n",
    "        actor_loss = -torch.mean(\n",
    "            self.critic(\n",
    "                # 策略网络就是为了使得Q值最大化\n",
    "                torch.cat([states, self.actor(states)], dim=1)))\n",
    "        self.actor_optimizer.zero_grad()\n",
    "        actor_loss.backward()\n",
    "        self.actor_optimizer.step()\n",
    "\n",
    "        # self.soft_update(self.actor, self.target_actor)  # 软更新策略网络\n",
    "        # self.soft_update(self.critic, self.target_critic)  # 软更新价值网络\n",
    "        self.target_actor.load_state_dict(self.actor.state_dict())\n",
    "        self.target_critic.load_state_dict(self.critic.state_dict())"
   ]
  },
  {
   "cell_type": "code",
   "execution_count": 9,
   "metadata": {
    "colab": {
     "base_uri": "https://localhost:8080/"
    },
    "executionInfo": {
     "elapsed": 142752,
     "status": "ok",
     "timestamp": 1649956407730,
     "user": {
      "displayName": "Sam Lu",
      "userId": "15789059763790170725"
     },
     "user_tz": -480
    },
    "id": "-OjAWgKJCn3X",
    "outputId": "d2b245bd-7d68-4776-bf18-2c1f54a0ba22"
   },
   "outputs": [
    {
     "name": "stderr",
     "output_type": "stream",
     "text": [
      "Iteration 0: 100%|██████████| 20/20 [00:21<00:00,  1.08s/it, episode=20, return=-1415.267]\n",
      "Iteration 1: 100%|██████████| 20/20 [00:25<00:00,  1.30s/it, episode=40, return=-857.610] \n",
      "Iteration 2: 100%|██████████| 20/20 [00:25<00:00,  1.28s/it, episode=60, return=-757.822]\n",
      "Iteration 3: 100%|██████████| 20/20 [00:25<00:00,  1.28s/it, episode=80, return=-1129.823]\n",
      "Iteration 4: 100%|██████████| 20/20 [00:24<00:00,  1.24s/it, episode=100, return=-875.007]\n",
      "Iteration 5: 100%|██████████| 20/20 [00:24<00:00,  1.24s/it, episode=120, return=-566.148]\n",
      "Iteration 6: 100%|██████████| 20/20 [00:24<00:00,  1.23s/it, episode=140, return=-270.074]\n",
      "Iteration 7: 100%|██████████| 20/20 [00:24<00:00,  1.24s/it, episode=160, return=-935.763]\n",
      "Iteration 8: 100%|██████████| 20/20 [00:25<00:00,  1.28s/it, episode=180, return=-1637.242]\n",
      "Iteration 9: 100%|██████████| 20/20 [00:25<00:00,  1.28s/it, episode=200, return=-1217.430]\n"
     ]
    }
   ],
   "source": [
    "actor_lr = 5e-4\n",
    "critic_lr = 5e-3\n",
    "num_episodes = 200\n",
    "hidden_dim = 64\n",
    "gamma = 0.98\n",
    "tau = 0.005  # 软更新参数\n",
    "buffer_size = 10000\n",
    "minimal_size = 1000\n",
    "batch_size = 64\n",
    "sigma = 0.01  # 高斯噪声标准差\n",
    "device = torch.device(\"cuda\") if torch.cuda.is_available() else torch.device(\n",
    "    \"cpu\")\n",
    "\n",
    "env_name = 'Pendulum-v1'\n",
    "env = gym.make(env_name)\n",
    "random.seed(0)\n",
    "np.random.seed(0)\n",
    "\n",
    "torch.manual_seed(0)\n",
    "replay_buffer = rl_utils.ReplayBuffer(buffer_size)\n",
    "state_dim = env.observation_space.shape[0]\n",
    "action_dim = env.action_space.shape[0]\n",
    "action_bound = env.action_space.high[0]  # 动作最大值\n",
    "agent = DDPG(state_dim, action_dim, state_dim + action_dim, hidden_dim, False,\n",
    "             action_bound, sigma, actor_lr, critic_lr, tau, gamma, device)\n",
    "\n",
    "return_list = rl_utils.train_off_policy_agent(env, agent, num_episodes,\n",
    "                                              replay_buffer, minimal_size,\n",
    "                                              batch_size)\n",
    "\n",
    "# Iteration 0: 100%|██████████| 20/20 [02:42<00:00,  8.11s/it, episode=20,\n",
    "# return=-1269.365]\n",
    "# Iteration 1: 100%|██████████| 20/20 [03:38<00:00, 10.94s/it, episode=40,\n",
    "# return=-916.439]\n",
    "# Iteration 2: 100%|██████████| 20/20 [03:38<00:00, 10.93s/it, episode=60,\n",
    "# return=-450.922]\n",
    "# Iteration 3: 100%|██████████| 20/20 [03:36<00:00, 10.81s/it, episode=80,\n",
    "# return=-239.596]\n",
    "# Iteration 4: 100%|██████████| 20/20 [03:37<00:00, 10.86s/it, episode=100,\n",
    "# return=-173.360]\n",
    "# Iteration 5: 100%|██████████| 20/20 [03:38<00:00, 10.91s/it, episode=120,\n",
    "# return=-239.450]\n",
    "# Iteration 6: 100%|██████████| 20/20 [03:38<00:00, 10.91s/it, episode=140,\n",
    "# return=-184.360]\n",
    "# Iteration 7: 100%|██████████| 20/20 [03:37<00:00, 10.88s/it, episode=160,\n",
    "# return=-172.832]\n",
    "# Iteration 8: 100%|██████████| 20/20 [03:38<00:00, 10.90s/it, episode=180,\n",
    "# return=-178.041]\n",
    "# Iteration 9: 100%|██████████| 20/20 [03:38<00:00, 10.91s/it, episode=200,\n",
    "# return=-190.356]"
   ]
  },
  {
   "cell_type": "code",
   "execution_count": 10,
   "metadata": {
    "colab": {
     "base_uri": "https://localhost:8080/",
     "height": 573
    },
    "executionInfo": {
     "elapsed": 565,
     "status": "ok",
     "timestamp": 1649956408280,
     "user": {
      "displayName": "Sam Lu",
      "userId": "15789059763790170725"
     },
     "user_tz": -480
    },
    "id": "LtGxw6PBCn3Y",
    "outputId": "45eab045-71ae-4055-b9dd-e3930449eddd"
   },
   "outputs": [
    {
     "data": {
      "image/png": "[encoded data removed]",
      "text/plain": [
       "<Figure size 432x288 with 1 Axes>"
      ]
     },
     "metadata": {
      "needs_background": "light"
     },
     "output_type": "display_data"
    },
    {
     "data": {
      "image/png": "[encoded data removed]",
      "text/plain": [
       "<Figure size 432x288 with 1 Axes>"
      ]
     },
     "metadata": {
      "needs_background": "light"
     },
     "output_type": "display_data"
    }
   ],
   "source": [
    "episodes_list = list(range(len(return_list)))\n",
    "plt.plot(episodes_list, return_list)\n",
    "plt.xlabel('Episodes')\n",
    "plt.ylabel('Returns')\n",
    "plt.title('DDPG on {}'.format(env_name))\n",
    "plt.show()\n",
    "\n",
    "mv_return = rl_utils.moving_average(return_list, 9)\n",
    "plt.plot(episodes_list, mv_return + 2000)\n",
    "plt.xlabel('Traning time(days)')\n",
    "plt.ylabel('Elo rating')\n",
    "# plt.title('DDPG on {}'.format(env_name))\n",
    "plt.show()"
   ]
  }
 ],
 "metadata": {
  "colab": {
   "collapsed_sections": [],
   "name": "第13章-DDPG算法.ipynb",
   "provenance": []
  },
  "kernelspec": {
   "display_name": "Python 3.8.8 ('torch170')",
   "language": "python",
   "name": "python3"
  },
  "language_info": {
   "codemirror_mode": {
    "name": "ipython",
    "version": 3
   },
   "file_extension": ".py",
   "mimetype": "text/x-python",
   "name": "python",
   "nbconvert_exporter": "python",
   "pygments_lexer": "ipython3",
   "version": "3.8.8"
  },
  "vscode": {
   "interpreter": {
    "hash": "054120ba068db39b13a9d2d3f1fe1aab5c2e88ce9771642db849c8e2c09a1a51"
   }
  }
 },
 "nbformat": 4,
 "nbformat_minor": 1
}
